{
 "cells": [
  {
   "cell_type": "code",
   "execution_count": null,
   "metadata": {},
   "outputs": [],
   "source": [
    "# Libraries\n",
    "import json, pandas as pd, pydeck as pdk, ee, ipyfilechooser, ipywidgets, datetime, sys\n",
    "sys.path.append('./utils/')\n",
    "import sentinel_satellites"
   ]
  },
  {
   "cell_type": "code",
   "execution_count": null,
   "metadata": {},
   "outputs": [],
   "source": [
    "# Initializes the Google Earth Engine APIs\n",
    "ee.Authenticate()\n",
    "ee.Initialize()"
   ]
  },
  {
   "attachments": {},
   "cell_type": "markdown",
   "metadata": {},
   "source": [
    "# Features Extraction\n",
    "\n",
    "The project aim is to create a Machine Learning model capable of detecting the dates when a crop field has been manured, using satellite data. <br>\n",
    "Before even starting considering models or even doing an exploratory analysis, it is useful to extract all the features (both optical and radar) from sentinel satellites over the specified crop fields."
   ]
  },
  {
   "attachments": {},
   "cell_type": "markdown",
   "metadata": {},
   "source": [
    "## Import a JSON file containing crop fields details"
   ]
  },
  {
   "cell_type": "code",
   "execution_count": null,
   "metadata": {},
   "outputs": [],
   "source": [
    "# Choose the file (it must be a JSON file)\n",
    "file_chooser = ipyfilechooser.FileChooser(path='../Datasets/main/', filename='main-crops.json', select_default=True, use_dir_icons=True, filter_pattern='*.json')\n",
    "display(file_chooser)"
   ]
  },
  {
   "cell_type": "code",
   "execution_count": null,
   "metadata": {},
   "outputs": [],
   "source": [
    "# Load JSON data from file\n",
    "with open(file_chooser.selected) as f:\n",
    "    data = json.load(f)\n",
    "\n",
    "# Create DataFrame with properties excluding 'manure_dates' column\n",
    "fields_df = pd.DataFrame([{k:v for k,v in f['properties'].items() if k!='manure_dates'} for f in data['features']])\n",
    "\n",
    "# Add column with coordinates for each field\n",
    "fields_df['polygon_coordinates'] = [[tuple(c) for c in p] for f in data['features'] for p in f['geometry']['coordinates']]\n",
    "\n",
    "# Create a dataframe that just has the columns crop_field_name and manure_dates\n",
    "y_df = pd.DataFrame([{k:v for k,v in f['properties'].items() if k!='polygon_coordinates'} for f in data['features']])"
   ]
  },
  {
   "cell_type": "code",
   "execution_count": null,
   "metadata": {},
   "outputs": [],
   "source": [
    "# Show the entire dataframe\n",
    "entire_df = fields_df.merge(y_df, on='crop_field_name')\n",
    "entire_df"
   ]
  },
  {
   "attachments": {},
   "cell_type": "markdown",
   "metadata": {},
   "source": [
    "## Show crop fields locations on earth-map"
   ]
  },
  {
   "cell_type": "code",
   "execution_count": null,
   "metadata": {},
   "outputs": [],
   "source": [
    "# Define the layer with a tooltip\n",
    "layer = pdk.Layer(\n",
    "    'PolygonLayer',\n",
    "    data=entire_df,\n",
    "    get_polygon='polygon_coordinates',\n",
    "    get_fill_color=[255, 255, 0, 100],\n",
    "    get_line_color=[255, 255, 0, 100],\n",
    "    stroked=True,\n",
    "    filled=True,\n",
    "    lineWidthMinPixels=3,\n",
    "    pickable=True,\n",
    "    auto_highlight=True,\n",
    ")\n",
    "\n",
    "# Define the initial view state of the map\n",
    "view_state = pdk.ViewState(\n",
    "    longitude=fields_df.polygon_coordinates[0][0][0],\n",
    "    latitude=fields_df.polygon_coordinates[0][0][1],\n",
    "    zoom=7.8\n",
    ")\n",
    "\n",
    "# Create the map with the layers and the initial view state\n",
    "r = pdk.Deck(layers=layer, initial_view_state=view_state,)\n",
    "\n",
    "# Show the map\n",
    "r.show()\n"
   ]
  },
  {
   "attachments": {},
   "cell_type": "markdown",
   "metadata": {},
   "source": [
    "It can be noticed that our fields are placed in the Northern part of Spain. Please consider generalization issue."
   ]
  },
  {
   "attachments": {},
   "cell_type": "markdown",
   "metadata": {},
   "source": [
    "## Features extraction - using sentinel-satellites PyPI library\n",
    "\n",
    "The objective is to generate a dataset that contains for each field, for each time the satellites (sentinel 1 and sentinel 2) have passed on the field (in a period, specified by the user), all the phisical indicators that will be further used to build the final model. <br>\n",
    "This procedure has been designed to be performed in parallel in order to exploit the computational power of the machine (since each field is indipendent with the others)."
   ]
  },
  {
   "cell_type": "code",
   "execution_count": null,
   "metadata": {},
   "outputs": [],
   "source": [
    "start_date_widget = ipywidgets.widgets.DatePicker(description='Start date', value=datetime.date(2022, 1, 1), disabled=False)\n",
    "display(start_date_widget)\n",
    "\n",
    "end_date_widget = ipywidgets.widgets.DatePicker(description='End date', value=datetime.date(2022, 12, 31), disabled=False)\n",
    "display(end_date_widget)"
   ]
  },
  {
   "attachments": {},
   "cell_type": "markdown",
   "metadata": {},
   "source": [
    "### Sentinel 2 (optical features)"
   ]
  },
  {
   "cell_type": "code",
   "execution_count": null,
   "metadata": {},
   "outputs": [],
   "source": [
    "# Get all the mean features for the crop fields inside the dataframe, within a time period, using sentinel 2 satellites\n",
    "fields_s2_features_extracted_df = sentinel_satellites.get_features(fields_df.iloc[0], start_date_widget.value, end_date_widget.value, sentinel=2)\n",
    "# Add manure dates\n",
    "fields_s2_features_extracted_df = fields_s2_features_extracted_df.merge(y_df, on=str(y_df.columns[0]))\n",
    "\n",
    "# Show the dataframe\n",
    "fields_s2_features_extracted_df"
   ]
  },
  {
   "attachments": {},
   "cell_type": "markdown",
   "metadata": {},
   "source": [
    "### Sentinel 1 (radar features)"
   ]
  },
  {
   "cell_type": "code",
   "execution_count": null,
   "metadata": {},
   "outputs": [],
   "source": [
    "# Get all the mean features for the crop fields inside the dataframe, within a time period, using sentinel 1 satellites\n",
    "fields_s1_features_extracted_df = sentinel_satellites.get_features(fields_df, start_date_widget.value, end_date_widget.value, sentinel=1)\n",
    "# Add manure dates\n",
    "fields_s1_features_extracted_df = fields_s1_features_extracted_df.merge(y_df, on=str(y_df.columns[0]))\n",
    "\n",
    "# Show the dataframe\n",
    "fields_s1_features_extracted_df"
   ]
  },
  {
   "attachments": {},
   "cell_type": "markdown",
   "metadata": {},
   "source": [
    "## Store the datasets containing all the extracted features, for all the fields"
   ]
  },
  {
   "cell_type": "code",
   "execution_count": null,
   "metadata": {},
   "outputs": [],
   "source": [
    "# Compressed .csv files, to take less memory space\n",
    "filename = file_chooser.selected_path + '/' + file_chooser.selected_filename.split('.')[0]\n",
    "fields_s2_features_extracted_df.to_csv(filename + '-s2-features-extracted.gz', header=True, index=False, compression='gzip')\n",
    "fields_s1_features_extracted_df.to_csv(filename + '-s1-features-extracted.gz', header=True, index=False, compression='gzip')"
   ]
  }
 ],
 "metadata": {
  "kernelspec": {
   "display_name": "Python 3",
   "language": "python",
   "name": "python3"
  },
  "language_info": {
   "codemirror_mode": {
    "name": "ipython",
    "version": 3
   },
   "file_extension": ".py",
   "mimetype": "text/x-python",
   "name": "python",
   "nbconvert_exporter": "python",
   "pygments_lexer": "ipython3",
   "version": "3.8.10"
  },
  "orig_nbformat": 4
 },
 "nbformat": 4,
 "nbformat_minor": 2
}
