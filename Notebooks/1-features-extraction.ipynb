{
 "cells": [
  {
   "cell_type": "code",
   "execution_count": 2,
   "metadata": {},
   "outputs": [],
   "source": [
    "# Libraries\n",
    "import json, pandas as pd, pydeck as pdk, ee, ipyfilechooser, ipywidgets, datetime, sys\n",
    "sys.path.append('./utils/')\n",
    "import sentinel_satellites"
   ]
  },
  {
   "cell_type": "code",
   "execution_count": 3,
   "metadata": {},
   "outputs": [
    {
     "data": {
      "text/html": [
       "<p>To authorize access needed by Earth Engine, open the following\n",
       "        URL in a web browser and follow the instructions:</p>\n",
       "        <p><a href=https://code.earthengine.google.com/client-auth?scopes=https%3A//www.googleapis.com/auth/earthengine%20https%3A//www.googleapis.com/auth/devstorage.full_control&request_id=PQwzLRlaHUo76X-QX5B4IKwHMK3iczepwJz0mAHWZ_8&tc=iQKAqA1cqWkqJAznfgO8EIp0POS19o2UWqv-TuVnssI&cc=uSvdt-3OJSSt6TDkv8oGOwLIdyQZrm2vNK_0GnvII6M>https://code.earthengine.google.com/client-auth?scopes=https%3A//www.googleapis.com/auth/earthengine%20https%3A//www.googleapis.com/auth/devstorage.full_control&request_id=PQwzLRlaHUo76X-QX5B4IKwHMK3iczepwJz0mAHWZ_8&tc=iQKAqA1cqWkqJAznfgO8EIp0POS19o2UWqv-TuVnssI&cc=uSvdt-3OJSSt6TDkv8oGOwLIdyQZrm2vNK_0GnvII6M</a></p>\n",
       "        <p>The authorization workflow will generate a code, which you should paste in the box below.</p>\n",
       "        "
      ],
      "text/plain": [
       "<IPython.core.display.HTML object>"
      ]
     },
     "metadata": {},
     "output_type": "display_data"
    },
    {
     "name": "stdout",
     "output_type": "stream",
     "text": [
      "\n",
      "Successfully saved authorization token.\n"
     ]
    }
   ],
   "source": [
    "# Initializes the Google Earth Engine APIs\n",
    "ee.Authenticate()\n",
    "ee.Initialize()"
   ]
  },
  {
   "attachments": {},
   "cell_type": "markdown",
   "metadata": {},
   "source": [
    "# Features Extraction\n",
    "\n",
    "The project aim is to create a Machine Learning model capable of detecting the dates when a crop field has been manured, using satellite data. <br>\n",
    "Before even starting considering models or even doing an exploratory analysis, it is useful to extract all the features (both optical and radar) from sentinel satellites over the specified crop fields."
   ]
  },
  {
   "attachments": {},
   "cell_type": "markdown",
   "metadata": {},
   "source": [
    "## Import a JSON file containing crop fields details"
   ]
  },
  {
   "cell_type": "code",
   "execution_count": 4,
   "metadata": {},
   "outputs": [
    {
     "data": {
      "application/vnd.jupyter.widget-view+json": {
       "model_id": "525f1adf76d0401ab9743afa2568eb3a",
       "version_major": 2,
       "version_minor": 0
      },
      "text/plain": [
       "FileChooser(path='/home/francesco/Documents/University/master-thesis/Datasets/main', filename='main-crops.json…"
      ]
     },
     "metadata": {},
     "output_type": "display_data"
    }
   ],
   "source": [
    "# Choose the file (it must be a JSON file)\n",
    "file_chooser = ipyfilechooser.FileChooser(path='../Datasets/main/', filename='main-crops.json', select_default=True, use_dir_icons=True, filter_pattern='*.json')\n",
    "display(file_chooser)"
   ]
  },
  {
   "cell_type": "code",
   "execution_count": 5,
   "metadata": {},
   "outputs": [],
   "source": [
    "# Load JSON data from file\n",
    "with open(file_chooser.selected) as f:\n",
    "    data = json.load(f)\n",
    "\n",
    "# Create DataFrame with properties excluding 'manure_dates' column\n",
    "fields_df = pd.DataFrame([{k:v for k,v in f['properties'].items() if k!='manure_dates'} for f in data['features']])\n",
    "\n",
    "# Add column with coordinates for each field\n",
    "fields_df['polygon_coordinates'] = [[tuple(c) for c in p] for f in data['features'] for p in f['geometry']['coordinates']]\n",
    "\n",
    "# Create a dataframe that just has the columns crop_field_name and manure_dates\n",
    "y_df = pd.DataFrame([{k:v for k,v in f['properties'].items() if k!='polygon_coordinates'} for f in data['features']])"
   ]
  },
  {
   "cell_type": "code",
   "execution_count": 6,
   "metadata": {},
   "outputs": [
    {
     "data": {
      "text/html": [
       "<div>\n",
       "<style scoped>\n",
       "    .dataframe tbody tr th:only-of-type {\n",
       "        vertical-align: middle;\n",
       "    }\n",
       "\n",
       "    .dataframe tbody tr th {\n",
       "        vertical-align: top;\n",
       "    }\n",
       "\n",
       "    .dataframe thead th {\n",
       "        text-align: right;\n",
       "    }\n",
       "</style>\n",
       "<table border=\"1\" class=\"dataframe\">\n",
       "  <thead>\n",
       "    <tr style=\"text-align: right;\">\n",
       "      <th></th>\n",
       "      <th>crop_field_name</th>\n",
       "      <th>polygon_coordinates</th>\n",
       "      <th>manure_dates</th>\n",
       "    </tr>\n",
       "  </thead>\n",
       "  <tbody>\n",
       "    <tr>\n",
       "      <th>0</th>\n",
       "      <td>P-BLD</td>\n",
       "      <td>[(-4.202723286616649, 43.39683579015289), (-4....</td>\n",
       "      <td>[2022-05-26]</td>\n",
       "    </tr>\n",
       "    <tr>\n",
       "      <th>1</th>\n",
       "      <td>P-BLLT1</td>\n",
       "      <td>[(-4.085622203603083, 43.429605845026266), (-4...</td>\n",
       "      <td>[2022-05-16]</td>\n",
       "    </tr>\n",
       "    <tr>\n",
       "      <th>2</th>\n",
       "      <td>P-BLLT2</td>\n",
       "      <td>[(-4.084840437376829, 43.430826294936246), (-4...</td>\n",
       "      <td>[2022-05-26]</td>\n",
       "    </tr>\n",
       "    <tr>\n",
       "      <th>3</th>\n",
       "      <td>P-Cardana</td>\n",
       "      <td>[(8.658803437240303, 45.85842753378426), (8.65...</td>\n",
       "      <td>[2022-02-24]</td>\n",
       "    </tr>\n",
       "    <tr>\n",
       "      <th>4</th>\n",
       "      <td>P-CBRCS1</td>\n",
       "      <td>[(-4.200826431306206, 43.39067464298489), (-4....</td>\n",
       "      <td>[2022-05-26]</td>\n",
       "    </tr>\n",
       "    <tr>\n",
       "      <th>5</th>\n",
       "      <td>P-CBRCS2</td>\n",
       "      <td>[(-4.204911872695676, 43.3876170244562), (-4.2...</td>\n",
       "      <td>[2022-05-26]</td>\n",
       "    </tr>\n",
       "    <tr>\n",
       "      <th>6</th>\n",
       "      <td>P-CLGT</td>\n",
       "      <td>[(-4.111699726693341, 43.39830644556494), (-4....</td>\n",
       "      <td>[2022-05-16]</td>\n",
       "    </tr>\n",
       "    <tr>\n",
       "      <th>7</th>\n",
       "      <td>P-CLMBRS</td>\n",
       "      <td>[(-4.544769098140127, 43.38040395682432), (-4....</td>\n",
       "      <td>[2022-05-26]</td>\n",
       "    </tr>\n",
       "    <tr>\n",
       "      <th>8</th>\n",
       "      <td>P-CMNTR</td>\n",
       "      <td>[(-4.147208715069137, 43.40038457218137), (-4....</td>\n",
       "      <td>[2022-05-16]</td>\n",
       "    </tr>\n",
       "    <tr>\n",
       "      <th>9</th>\n",
       "      <td>P-DR</td>\n",
       "      <td>[(-4.142486752802821, 43.396858931472195), (-4...</td>\n",
       "      <td>[2022-03-21]</td>\n",
       "    </tr>\n",
       "    <tr>\n",
       "      <th>10</th>\n",
       "      <td>P-FNFR</td>\n",
       "      <td>[(-4.265940418729373, 43.38866671614796), (-4....</td>\n",
       "      <td>[2022-05-16]</td>\n",
       "    </tr>\n",
       "    <tr>\n",
       "      <th>11</th>\n",
       "      <td>P-LLT</td>\n",
       "      <td>[(-4.152325164683781, 43.401569481226566), (-4...</td>\n",
       "      <td>[2022-05-03]</td>\n",
       "    </tr>\n",
       "    <tr>\n",
       "      <th>12</th>\n",
       "      <td>P-LNDRS1</td>\n",
       "      <td>[(-4.251530525847165, 43.38798055772024), (-4....</td>\n",
       "      <td>[2022-05-16]</td>\n",
       "    </tr>\n",
       "    <tr>\n",
       "      <th>13</th>\n",
       "      <td>P-LNDRS2</td>\n",
       "      <td>[(-4.250564732351987, 43.388617734886274), (-4...</td>\n",
       "      <td>[2022-05-16]</td>\n",
       "    </tr>\n",
       "    <tr>\n",
       "      <th>14</th>\n",
       "      <td>P-LNDRS3</td>\n",
       "      <td>[(-4.2511055488183365, 43.38735991924077), (-4...</td>\n",
       "      <td>[2022-05-16]</td>\n",
       "    </tr>\n",
       "    <tr>\n",
       "      <th>15</th>\n",
       "      <td>P-LNDRS4</td>\n",
       "      <td>[(-4.247594927542155, 43.38755194400419), (-4....</td>\n",
       "      <td>[2022-05-16]</td>\n",
       "    </tr>\n",
       "    <tr>\n",
       "      <th>16</th>\n",
       "      <td>P-MT</td>\n",
       "      <td>[(-4.15624161878944, 43.39808161351026), (-4.1...</td>\n",
       "      <td>[2022-05-04]</td>\n",
       "    </tr>\n",
       "    <tr>\n",
       "      <th>17</th>\n",
       "      <td>P-NMS</td>\n",
       "      <td>[(-4.149852035416504, 43.400852748669195), (-4...</td>\n",
       "      <td>[2022-02-10]</td>\n",
       "    </tr>\n",
       "    <tr>\n",
       "      <th>18</th>\n",
       "      <td>P-QNTLS2</td>\n",
       "      <td>[(-5.584911049645616, 43.54560955710622), (-5....</td>\n",
       "      <td>[2022-05-16]</td>\n",
       "    </tr>\n",
       "    <tr>\n",
       "      <th>19</th>\n",
       "      <td>P-SNTLLN</td>\n",
       "      <td>[(-4.117041753016957, 43.39363264103559), (-4....</td>\n",
       "      <td>[2022-03-17]</td>\n",
       "    </tr>\n",
       "    <tr>\n",
       "      <th>20</th>\n",
       "      <td>P-SNVCNT1</td>\n",
       "      <td>[(-4.405359683250644, 43.393525660129335), (-4...</td>\n",
       "      <td>[2022-05-16]</td>\n",
       "    </tr>\n",
       "    <tr>\n",
       "      <th>21</th>\n",
       "      <td>P-SNVCNT2</td>\n",
       "      <td>[(-4.402721534074249, 43.394287713899985), (-4...</td>\n",
       "      <td>[2022-05-16]</td>\n",
       "    </tr>\n",
       "    <tr>\n",
       "      <th>22</th>\n",
       "      <td>P-STBN</td>\n",
       "      <td>[(-4.138339716775706, 43.39593577946641), (-4....</td>\n",
       "      <td>[2022-05-04]</td>\n",
       "    </tr>\n",
       "    <tr>\n",
       "      <th>23</th>\n",
       "      <td>P-TGL2</td>\n",
       "      <td>[(-4.070608985197814, 43.4268926686965), (-4.0...</td>\n",
       "      <td>[2022-05-16]</td>\n",
       "    </tr>\n",
       "    <tr>\n",
       "      <th>24</th>\n",
       "      <td>P-TNNS1</td>\n",
       "      <td>[(-4.1899471436114855, 43.39901157399903), (-4...</td>\n",
       "      <td>[2022-05-26]</td>\n",
       "    </tr>\n",
       "    <tr>\n",
       "      <th>25</th>\n",
       "      <td>P-TNNS2</td>\n",
       "      <td>[(-4.192206469530177, 43.39860072060607), (-4....</td>\n",
       "      <td>[2022-05-26]</td>\n",
       "    </tr>\n",
       "    <tr>\n",
       "      <th>26</th>\n",
       "      <td>P-VG1</td>\n",
       "      <td>[(-5.486358947437162, 43.469424350172766), (-5...</td>\n",
       "      <td>[2022-04-09]</td>\n",
       "    </tr>\n",
       "    <tr>\n",
       "      <th>27</th>\n",
       "      <td>P-VG2</td>\n",
       "      <td>[(-5.480254884662825, 43.4687861587232), (-5.4...</td>\n",
       "      <td>[2022-04-13]</td>\n",
       "    </tr>\n",
       "    <tr>\n",
       "      <th>28</th>\n",
       "      <td>P-VLDMR</td>\n",
       "      <td>[(-4.157038444925938, 43.40720711284701), (-4....</td>\n",
       "      <td>[2022-02-07]</td>\n",
       "    </tr>\n",
       "    <tr>\n",
       "      <th>29</th>\n",
       "      <td>P-VNS</td>\n",
       "      <td>[(-4.151167740565273, 43.40535762666503), (-4....</td>\n",
       "      <td>[2022-04-23]</td>\n",
       "    </tr>\n",
       "  </tbody>\n",
       "</table>\n",
       "</div>"
      ],
      "text/plain": [
       "   crop_field_name                                polygon_coordinates  \\\n",
       "0            P-BLD  [(-4.202723286616649, 43.39683579015289), (-4....   \n",
       "1          P-BLLT1  [(-4.085622203603083, 43.429605845026266), (-4...   \n",
       "2          P-BLLT2  [(-4.084840437376829, 43.430826294936246), (-4...   \n",
       "3        P-Cardana  [(8.658803437240303, 45.85842753378426), (8.65...   \n",
       "4         P-CBRCS1  [(-4.200826431306206, 43.39067464298489), (-4....   \n",
       "5         P-CBRCS2  [(-4.204911872695676, 43.3876170244562), (-4.2...   \n",
       "6           P-CLGT  [(-4.111699726693341, 43.39830644556494), (-4....   \n",
       "7         P-CLMBRS  [(-4.544769098140127, 43.38040395682432), (-4....   \n",
       "8          P-CMNTR  [(-4.147208715069137, 43.40038457218137), (-4....   \n",
       "9             P-DR  [(-4.142486752802821, 43.396858931472195), (-4...   \n",
       "10          P-FNFR  [(-4.265940418729373, 43.38866671614796), (-4....   \n",
       "11           P-LLT  [(-4.152325164683781, 43.401569481226566), (-4...   \n",
       "12        P-LNDRS1  [(-4.251530525847165, 43.38798055772024), (-4....   \n",
       "13        P-LNDRS2  [(-4.250564732351987, 43.388617734886274), (-4...   \n",
       "14        P-LNDRS3  [(-4.2511055488183365, 43.38735991924077), (-4...   \n",
       "15        P-LNDRS4  [(-4.247594927542155, 43.38755194400419), (-4....   \n",
       "16            P-MT  [(-4.15624161878944, 43.39808161351026), (-4.1...   \n",
       "17           P-NMS  [(-4.149852035416504, 43.400852748669195), (-4...   \n",
       "18        P-QNTLS2  [(-5.584911049645616, 43.54560955710622), (-5....   \n",
       "19        P-SNTLLN  [(-4.117041753016957, 43.39363264103559), (-4....   \n",
       "20       P-SNVCNT1  [(-4.405359683250644, 43.393525660129335), (-4...   \n",
       "21       P-SNVCNT2  [(-4.402721534074249, 43.394287713899985), (-4...   \n",
       "22          P-STBN  [(-4.138339716775706, 43.39593577946641), (-4....   \n",
       "23          P-TGL2  [(-4.070608985197814, 43.4268926686965), (-4.0...   \n",
       "24         P-TNNS1  [(-4.1899471436114855, 43.39901157399903), (-4...   \n",
       "25         P-TNNS2  [(-4.192206469530177, 43.39860072060607), (-4....   \n",
       "26           P-VG1  [(-5.486358947437162, 43.469424350172766), (-5...   \n",
       "27           P-VG2  [(-5.480254884662825, 43.4687861587232), (-5.4...   \n",
       "28         P-VLDMR  [(-4.157038444925938, 43.40720711284701), (-4....   \n",
       "29           P-VNS  [(-4.151167740565273, 43.40535762666503), (-4....   \n",
       "\n",
       "    manure_dates  \n",
       "0   [2022-05-26]  \n",
       "1   [2022-05-16]  \n",
       "2   [2022-05-26]  \n",
       "3   [2022-02-24]  \n",
       "4   [2022-05-26]  \n",
       "5   [2022-05-26]  \n",
       "6   [2022-05-16]  \n",
       "7   [2022-05-26]  \n",
       "8   [2022-05-16]  \n",
       "9   [2022-03-21]  \n",
       "10  [2022-05-16]  \n",
       "11  [2022-05-03]  \n",
       "12  [2022-05-16]  \n",
       "13  [2022-05-16]  \n",
       "14  [2022-05-16]  \n",
       "15  [2022-05-16]  \n",
       "16  [2022-05-04]  \n",
       "17  [2022-02-10]  \n",
       "18  [2022-05-16]  \n",
       "19  [2022-03-17]  \n",
       "20  [2022-05-16]  \n",
       "21  [2022-05-16]  \n",
       "22  [2022-05-04]  \n",
       "23  [2022-05-16]  \n",
       "24  [2022-05-26]  \n",
       "25  [2022-05-26]  \n",
       "26  [2022-04-09]  \n",
       "27  [2022-04-13]  \n",
       "28  [2022-02-07]  \n",
       "29  [2022-04-23]  "
      ]
     },
     "execution_count": 6,
     "metadata": {},
     "output_type": "execute_result"
    }
   ],
   "source": [
    "# Show the entire dataframe\n",
    "entire_df = fields_df.merge(y_df, on='crop_field_name')\n",
    "entire_df"
   ]
  },
  {
   "attachments": {},
   "cell_type": "markdown",
   "metadata": {},
   "source": [
    "## Show crop fields locations on earth-map"
   ]
  },
  {
   "cell_type": "code",
   "execution_count": 7,
   "metadata": {},
   "outputs": [
    {
     "data": {
      "application/vnd.jupyter.widget-view+json": {
       "model_id": "9637e47d4462410b8392b66a748e6d95",
       "version_major": 2,
       "version_minor": 0
      },
      "text/plain": [
       "DeckGLWidget(carto_key=None, custom_libraries=[], google_maps_key=None, json_input='{\\n  \"initialViewState\": {…"
      ]
     },
     "execution_count": 7,
     "metadata": {},
     "output_type": "execute_result"
    }
   ],
   "source": [
    "# Define the layer with a tooltip\n",
    "layer = pdk.Layer(\n",
    "    'PolygonLayer',\n",
    "    data=entire_df,\n",
    "    get_polygon='polygon_coordinates',\n",
    "    get_fill_color=[255, 255, 0, 100],\n",
    "    get_line_color=[255, 255, 0, 100],\n",
    "    stroked=True,\n",
    "    filled=True,\n",
    "    lineWidthMinPixels=3,\n",
    "    pickable=True,\n",
    "    auto_highlight=True,\n",
    ")\n",
    "\n",
    "# Define the initial view state of the map\n",
    "view_state = pdk.ViewState(\n",
    "    longitude=fields_df.polygon_coordinates[0][0][0],\n",
    "    latitude=fields_df.polygon_coordinates[0][0][1],\n",
    "    zoom=7.8\n",
    ")\n",
    "\n",
    "# Create the map with the layers and the initial view state\n",
    "r = pdk.Deck(layers=layer, initial_view_state=view_state,)\n",
    "\n",
    "# Show the map\n",
    "r.show()\n"
   ]
  },
  {
   "attachments": {},
   "cell_type": "markdown",
   "metadata": {},
   "source": [
    "It can be noticed that our fields are placed in the Northern part of Spain. Please consider generalization issue."
   ]
  },
  {
   "attachments": {},
   "cell_type": "markdown",
   "metadata": {},
   "source": [
    "## Features extraction - using sentinel-satellites PyPI library\n",
    "\n",
    "The objective is to generate a dataset that contains for each field, for each time the satellites (sentinel 1 and sentinel 2) have passed on the field (in a period, specified by the user), all the phisical indicators that will be further used to build the final model. <br>\n",
    "This procedure has been designed to be performed in parallel in order to exploit the computational power of the machine (since each field is indipendent with the others)."
   ]
  },
  {
   "cell_type": "code",
   "execution_count": 8,
   "metadata": {},
   "outputs": [
    {
     "data": {
      "application/vnd.jupyter.widget-view+json": {
       "model_id": "e9824c3217604ca9b44e2c75e6e42c3a",
       "version_major": 2,
       "version_minor": 0
      },
      "text/plain": [
       "DatePicker(value=datetime.date(2022, 1, 1), description='Start date', step=1)"
      ]
     },
     "metadata": {},
     "output_type": "display_data"
    },
    {
     "data": {
      "application/vnd.jupyter.widget-view+json": {
       "model_id": "05505030bd4540b0b4d24e3648cfaa4e",
       "version_major": 2,
       "version_minor": 0
      },
      "text/plain": [
       "DatePicker(value=datetime.date(2022, 12, 31), description='End date', step=1)"
      ]
     },
     "metadata": {},
     "output_type": "display_data"
    }
   ],
   "source": [
    "start_date_widget = ipywidgets.widgets.DatePicker(description='Start date', value=datetime.date(2022, 1, 1), disabled=False)\n",
    "display(start_date_widget)\n",
    "\n",
    "end_date_widget = ipywidgets.widgets.DatePicker(description='End date', value=datetime.date(2022, 12, 31), disabled=False)\n",
    "display(end_date_widget)"
   ]
  },
  {
   "attachments": {},
   "cell_type": "markdown",
   "metadata": {},
   "source": [
    "### Sentinel 2 (optical features)"
   ]
  },
  {
   "cell_type": "code",
   "execution_count": 15,
   "metadata": {},
   "outputs": [],
   "source": [
    "# Get all the mean features for the crop fields inside the dataframe, within a time period, using sentinel 2 satellites\n",
    "fields_s2_features_extracted_df = sentinel_satellites.get_features(fields_df, start_date_widget.value, end_date_widget.value, sentinel=2, fields_threads=3)\n",
    "# Add manure dates\n",
    "fields_s2_features_extracted_df = fields_s2_features_extracted_df.merge(y_df, on=str(y_df.columns[0]))\n",
    "\n",
    "# Show the dataframe\n",
    "fields_s2_features_extracted_df"
   ]
  },
  {
   "attachments": {},
   "cell_type": "markdown",
   "metadata": {},
   "source": [
    "#### Store the obtained dataset"
   ]
  },
  {
   "cell_type": "code",
   "execution_count": null,
   "metadata": {},
   "outputs": [],
   "source": [
    "# Compressed .csv files, to take less memory space\n",
    "filename = file_chooser.selected_path + '/' + file_chooser.selected_filename.split('.')[0]\n",
    "fields_s2_features_extracted_df.to_csv(filename + '-s2-features-extracted.gz', header=True, index=False, compression='gzip')"
   ]
  },
  {
   "attachments": {},
   "cell_type": "markdown",
   "metadata": {},
   "source": [
    "### Sentinel 1 (radar features)"
   ]
  },
  {
   "cell_type": "code",
   "execution_count": null,
   "metadata": {},
   "outputs": [],
   "source": [
    "# Get all the mean features for the crop fields inside the dataframe, within a time period, using sentinel 1 satellites\n",
    "fields_s1_features_extracted_df = sentinel_satellites.get_features(fields_df, start_date_widget.value, end_date_widget.value, sentinel=1, fields_threads=18)\n",
    "# Add manure dates\n",
    "fields_s1_features_extracted_df = fields_s1_features_extracted_df.merge(y_df, on=str(y_df.columns[0]))\n",
    "\n",
    "# Show the dataframe\n",
    "fields_s1_features_extracted_df"
   ]
  },
  {
   "attachments": {},
   "cell_type": "markdown",
   "metadata": {},
   "source": [
    "#### Store the obtained dataset"
   ]
  },
  {
   "cell_type": "code",
   "execution_count": null,
   "metadata": {},
   "outputs": [],
   "source": [
    "# Compressed .csv files, to take less memory space\n",
    "filename = file_chooser.selected_path + '/' + file_chooser.selected_filename.split('.')[0]\n",
    "fields_s1_features_extracted_df.to_csv(filename + '-s1-features-extracted.gz', header=True, index=False, compression='gzip')"
   ]
  }
 ],
 "metadata": {
  "kernelspec": {
   "display_name": "Python 3",
   "language": "python",
   "name": "python3"
  },
  "language_info": {
   "codemirror_mode": {
    "name": "ipython",
    "version": 3
   },
   "file_extension": ".py",
   "mimetype": "text/x-python",
   "name": "python",
   "nbconvert_exporter": "python",
   "pygments_lexer": "ipython3",
   "version": "3.8.10"
  },
  "orig_nbformat": 4
 },
 "nbformat": 4,
 "nbformat_minor": 2
}
