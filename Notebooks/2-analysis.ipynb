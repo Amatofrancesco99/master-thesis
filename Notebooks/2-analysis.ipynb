{
 "cells": [
  {
   "attachments": {},
   "cell_type": "markdown",
   "metadata": {},
   "source": [
    "# Analysis\n",
    "\n",
    "The project aim is to create a Machine Learning model capable of detecting the dates when a crop field has been manured, using satellite data. <br>\n",
    "Before even starting considering models, it is useful to perform exploratory analysis on the previously extracted features."
   ]
  },
  {
   "cell_type": "markdown",
   "metadata": {},
   "source": []
  }
 ],
 "metadata": {
  "language_info": {
   "name": "python"
  },
  "orig_nbformat": 4
 },
 "nbformat": 4,
 "nbformat_minor": 2
}
